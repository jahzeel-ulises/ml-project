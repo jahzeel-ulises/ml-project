{
  "cells": [
    {
      "cell_type": "markdown",
      "metadata": {
        "id": "3J9T8T3A4PMk"
      },
      "source": [
        "# Jahzeel Ulises Mendez Diaz\n",
        "\n",
        "Primero avance del proyecto de Machine Learning."
      ]
    },
    {
      "cell_type": "markdown",
      "metadata": {
        "id": "PfBjij3q5b0a"
      },
      "source": [
        "## Cronograma de actividades\n",
        "\n",
        "- Elegir datasets.\n",
        "- Realizar pre-procesamiento.\n",
        "- Investigación de modelos a utilizar.\n",
        "- Realizar entrenamiento.\n",
        "- Realizar pruebas de desempeño.\n",
        "- Pulir modelos.\n",
        "- Realizar vistas."
      ]
    },
    {
      "cell_type": "markdown",
      "metadata": {
        "id": "flMGO86O53wU"
      },
      "source": [
        "## Datasets\n",
        "\n",
        "**Clasificación.**\n",
        "- [Twitter Sentiment Analysis](https://www.kaggle.com/datasets/jp797498e/twitter-entity-sentiment-analysis)\n",
        "\n",
        "**Regresión**\n",
        "- [Series de tiempo clima](https://power.larc.nasa.gov/data-access-viewer/)"
      ]
    },
    {
      "cell_type": "markdown",
      "metadata": {
        "id": "JijBbmOB64ls"
      },
      "source": [
        "## Pre-procesamiento.\n",
        "\n",
        "Se realizo la tokenización y vector de conteo del dataset."
      ]
    },
    {
      "cell_type": "code",
      "execution_count": 1,
      "metadata": {
        "id": "ewLaD6HI4Orz"
      },
      "outputs": [],
      "source": [
        "import numpy as np\n",
        "import pandas as pd\n",
        "import nltk\n",
        "from nltk.tokenize import word_tokenize\n",
        "from nltk.corpus import stopwords\n",
        "from nltk.stem import SnowballStemmer\n",
        "from nltk.stem import WordNetLemmatizer"
      ]
    },
    {
      "cell_type": "markdown",
      "metadata": {
        "id": "Msjdi8TS7eAS"
      },
      "source": [
        "### Stemming\n",
        "\n",
        "Stemming es un método para reducir una palabra a su raíz o (en inglés) a un stem. Hay algunos algoritmos de stemming que ayudan en sistemas de recuperación de información. Stemming aumenta el recall que es una medida sobre el número de documentos que se pueden encontrar con una consulta. Por ejemplo una consulta sobre \"bibliotecas\" también encuentra documentos en los que solo aparezca \"bibliotecario\" porque el stem de las dos palabras es el mismo (\"bibliotec\"). [(ref)](https://es.wikipedia.org/wiki/Stemming)"
      ]
    },
    {
      "cell_type": "code",
      "execution_count": 2,
      "metadata": {
        "id": "ZniSArB-6z8W"
      },
      "outputs": [],
      "source": [
        "#Creamos una función que divide el texto en tokens y aplica el stem a las palabras\n",
        "stemmer = SnowballStemmer('english')\n",
        "def tokenize_and_stem(text):\n",
        "  tokens = word_tokenize(text.lower())\n",
        "  stems = [stemmer.stem(token) for token in tokens if token.isalpha()]\n",
        "  return ' '.join(stems)"
      ]
    },
    {
      "cell_type": "markdown",
      "metadata": {
        "id": "oscR6NIf_W58"
      },
      "source": [
        "### Lematización\n",
        "\n",
        "La lematización es un proceso lingüístico que consiste en, dada una forma flexionada (es decir, en plural, en femenino, conjugada, etc), hallar el lema correspondiente. El lema es la forma que por convenio se acepta como representante de todas las formas flexionadas de una misma palabra. Es decir, el lema de una palabra es la palabra que nos encontraríamos como entrada en un diccionario tradicional: singular para sustantivos, masculino singular para adjetivos, infinitivo para verbos. Por ejemplo, decir es el lema de dije, pero también de diré o dijéramos; guapo es el lema de guapas; mesa es el lema de mesas. [(ref)](https://es.wikipedia.org/wiki/Lematizaci%C3%B3n)"
      ]
    },
    {
      "cell_type": "code",
      "execution_count": 3,
      "metadata": {
        "id": "eed6k2eG_iaD"
      },
      "outputs": [],
      "source": [
        "lemmatizer = WordNetLemmatizer()\n",
        "def tokenize_and_lematize(text):\n",
        "  tokens = word_tokenize(text.lower())\n",
        "  stems = [lemmatizer.lemmatize(token)for token in tokens if token.isalpha()]\n",
        "  return ' '.join(stems)"
      ]
    },
    {
      "cell_type": "markdown",
      "metadata": {
        "id": "sET2pnM8B5Eh"
      },
      "source": [
        "### Dataframe"
      ]
    },
    {
      "cell_type": "code",
      "execution_count": 5,
      "metadata": {
        "colab": {
          "base_uri": "https://localhost:8080/",
          "height": 424
        },
        "id": "70dwH7YNB3g_",
        "outputId": "f8b43b5d-c1ed-47c9-c07f-e389fb9c9f2b"
      },
      "outputs": [
        {
          "data": {
            "text/html": [
              "<div>\n",
              "<style scoped>\n",
              "    .dataframe tbody tr th:only-of-type {\n",
              "        vertical-align: middle;\n",
              "    }\n",
              "\n",
              "    .dataframe tbody tr th {\n",
              "        vertical-align: top;\n",
              "    }\n",
              "\n",
              "    .dataframe thead th {\n",
              "        text-align: right;\n",
              "    }\n",
              "</style>\n",
              "<table border=\"1\" class=\"dataframe\">\n",
              "  <thead>\n",
              "    <tr style=\"text-align: right;\">\n",
              "      <th></th>\n",
              "      <th>No</th>\n",
              "      <th>Game</th>\n",
              "      <th>Class</th>\n",
              "      <th>Text</th>\n",
              "    </tr>\n",
              "  </thead>\n",
              "  <tbody>\n",
              "    <tr>\n",
              "      <th>0</th>\n",
              "      <td>2401</td>\n",
              "      <td>Borderlands</td>\n",
              "      <td>Positive</td>\n",
              "      <td>I am coming to the borders and I will kill you...</td>\n",
              "    </tr>\n",
              "    <tr>\n",
              "      <th>1</th>\n",
              "      <td>2401</td>\n",
              "      <td>Borderlands</td>\n",
              "      <td>Positive</td>\n",
              "      <td>im getting on borderlands and i will kill you ...</td>\n",
              "    </tr>\n",
              "    <tr>\n",
              "      <th>2</th>\n",
              "      <td>2401</td>\n",
              "      <td>Borderlands</td>\n",
              "      <td>Positive</td>\n",
              "      <td>im coming on borderlands and i will murder you...</td>\n",
              "    </tr>\n",
              "    <tr>\n",
              "      <th>3</th>\n",
              "      <td>2401</td>\n",
              "      <td>Borderlands</td>\n",
              "      <td>Positive</td>\n",
              "      <td>im getting on borderlands 2 and i will murder ...</td>\n",
              "    </tr>\n",
              "    <tr>\n",
              "      <th>4</th>\n",
              "      <td>2401</td>\n",
              "      <td>Borderlands</td>\n",
              "      <td>Positive</td>\n",
              "      <td>im getting into borderlands and i can murder y...</td>\n",
              "    </tr>\n",
              "    <tr>\n",
              "      <th>...</th>\n",
              "      <td>...</td>\n",
              "      <td>...</td>\n",
              "      <td>...</td>\n",
              "      <td>...</td>\n",
              "    </tr>\n",
              "    <tr>\n",
              "      <th>74676</th>\n",
              "      <td>9200</td>\n",
              "      <td>Nvidia</td>\n",
              "      <td>Positive</td>\n",
              "      <td>Just realized that the Windows partition of my...</td>\n",
              "    </tr>\n",
              "    <tr>\n",
              "      <th>74677</th>\n",
              "      <td>9200</td>\n",
              "      <td>Nvidia</td>\n",
              "      <td>Positive</td>\n",
              "      <td>Just realized that my Mac window partition is ...</td>\n",
              "    </tr>\n",
              "    <tr>\n",
              "      <th>74678</th>\n",
              "      <td>9200</td>\n",
              "      <td>Nvidia</td>\n",
              "      <td>Positive</td>\n",
              "      <td>Just realized the windows partition of my Mac ...</td>\n",
              "    </tr>\n",
              "    <tr>\n",
              "      <th>74679</th>\n",
              "      <td>9200</td>\n",
              "      <td>Nvidia</td>\n",
              "      <td>Positive</td>\n",
              "      <td>Just realized between the windows partition of...</td>\n",
              "    </tr>\n",
              "    <tr>\n",
              "      <th>74680</th>\n",
              "      <td>9200</td>\n",
              "      <td>Nvidia</td>\n",
              "      <td>Positive</td>\n",
              "      <td>Just like the windows partition of my Mac is l...</td>\n",
              "    </tr>\n",
              "  </tbody>\n",
              "</table>\n",
              "<p>74681 rows × 4 columns</p>\n",
              "</div>"
            ],
            "text/plain": [
              "         No         Game     Class  \\\n",
              "0      2401  Borderlands  Positive   \n",
              "1      2401  Borderlands  Positive   \n",
              "2      2401  Borderlands  Positive   \n",
              "3      2401  Borderlands  Positive   \n",
              "4      2401  Borderlands  Positive   \n",
              "...     ...          ...       ...   \n",
              "74676  9200       Nvidia  Positive   \n",
              "74677  9200       Nvidia  Positive   \n",
              "74678  9200       Nvidia  Positive   \n",
              "74679  9200       Nvidia  Positive   \n",
              "74680  9200       Nvidia  Positive   \n",
              "\n",
              "                                                    Text  \n",
              "0      I am coming to the borders and I will kill you...  \n",
              "1      im getting on borderlands and i will kill you ...  \n",
              "2      im coming on borderlands and i will murder you...  \n",
              "3      im getting on borderlands 2 and i will murder ...  \n",
              "4      im getting into borderlands and i can murder y...  \n",
              "...                                                  ...  \n",
              "74676  Just realized that the Windows partition of my...  \n",
              "74677  Just realized that my Mac window partition is ...  \n",
              "74678  Just realized the windows partition of my Mac ...  \n",
              "74679  Just realized between the windows partition of...  \n",
              "74680  Just like the windows partition of my Mac is l...  \n",
              "\n",
              "[74681 rows x 4 columns]"
            ]
          },
          "execution_count": 5,
          "metadata": {},
          "output_type": "execute_result"
        }
      ],
      "source": [
        "#Cargamos el dataframe\n",
        "data = pd.read_csv(\"data/twitter_training.csv\")\n",
        "data = data.rename(columns={\"2401\":\"No\",\"Borderlands\":\"Game\",\"Positive\":\"Class\",\"im getting on borderlands and i will murder you all ,\":\"Text\"})\n",
        "data"
      ]
    },
    {
      "cell_type": "code",
      "execution_count": 6,
      "metadata": {
        "id": "1yO3WqvFGB0F"
      },
      "outputs": [],
      "source": [
        "#Eliminamos filas con np.nan\n",
        "data = data.dropna()"
      ]
    },
    {
      "cell_type": "code",
      "execution_count": 7,
      "metadata": {
        "colab": {
          "base_uri": "https://localhost:8080/",
          "height": 736
        },
        "id": "hs31QLnnCecc",
        "outputId": "21f8cf72-5ea7-407c-a7dc-0dc9fb466bd4"
      },
      "outputs": [
        {
          "name": "stderr",
          "output_type": "stream",
          "text": [
            "[nltk_data] Downloading package punkt to\n",
            "[nltk_data]     C:\\Users\\PC\\AppData\\Roaming\\nltk_data...\n",
            "[nltk_data]   Unzipping tokenizers\\punkt.zip.\n",
            "[nltk_data] Downloading package stopwords to\n",
            "[nltk_data]     C:\\Users\\PC\\AppData\\Roaming\\nltk_data...\n",
            "[nltk_data]   Unzipping corpora\\stopwords.zip.\n",
            "[nltk_data] Downloading package wordnet to\n",
            "[nltk_data]     C:\\Users\\PC\\AppData\\Roaming\\nltk_data...\n",
            "C:\\Users\\PC\\AppData\\Local\\Temp\\ipykernel_8760\\218889109.py:6: SettingWithCopyWarning: \n",
            "A value is trying to be set on a copy of a slice from a DataFrame.\n",
            "Try using .loc[row_indexer,col_indexer] = value instead\n",
            "\n",
            "See the caveats in the documentation: https://pandas.pydata.org/pandas-docs/stable/user_guide/indexing.html#returning-a-view-versus-a-copy\n",
            "  data[\"text_stem\"] = data[\"Text\"].apply(tokenize_and_stem)\n",
            "C:\\Users\\PC\\AppData\\Local\\Temp\\ipykernel_8760\\218889109.py:7: SettingWithCopyWarning: \n",
            "A value is trying to be set on a copy of a slice from a DataFrame.\n",
            "Try using .loc[row_indexer,col_indexer] = value instead\n",
            "\n",
            "See the caveats in the documentation: https://pandas.pydata.org/pandas-docs/stable/user_guide/indexing.html#returning-a-view-versus-a-copy\n",
            "  data[\"text_lem\"] = data[\"Text\"].apply(tokenize_and_lematize)\n"
          ]
        },
        {
          "data": {
            "text/html": [
              "<div>\n",
              "<style scoped>\n",
              "    .dataframe tbody tr th:only-of-type {\n",
              "        vertical-align: middle;\n",
              "    }\n",
              "\n",
              "    .dataframe tbody tr th {\n",
              "        vertical-align: top;\n",
              "    }\n",
              "\n",
              "    .dataframe thead th {\n",
              "        text-align: right;\n",
              "    }\n",
              "</style>\n",
              "<table border=\"1\" class=\"dataframe\">\n",
              "  <thead>\n",
              "    <tr style=\"text-align: right;\">\n",
              "      <th></th>\n",
              "      <th>No</th>\n",
              "      <th>Game</th>\n",
              "      <th>Class</th>\n",
              "      <th>Text</th>\n",
              "      <th>text_stem</th>\n",
              "      <th>text_lem</th>\n",
              "    </tr>\n",
              "  </thead>\n",
              "  <tbody>\n",
              "    <tr>\n",
              "      <th>0</th>\n",
              "      <td>2401</td>\n",
              "      <td>Borderlands</td>\n",
              "      <td>Positive</td>\n",
              "      <td>I am coming to the borders and I will kill you...</td>\n",
              "      <td>i am come to the border and i will kill you all</td>\n",
              "      <td>i am coming to the border and i will kill you all</td>\n",
              "    </tr>\n",
              "    <tr>\n",
              "      <th>1</th>\n",
              "      <td>2401</td>\n",
              "      <td>Borderlands</td>\n",
              "      <td>Positive</td>\n",
              "      <td>im getting on borderlands and i will kill you ...</td>\n",
              "      <td>im get on borderland and i will kill you all</td>\n",
              "      <td>im getting on borderland and i will kill you all</td>\n",
              "    </tr>\n",
              "    <tr>\n",
              "      <th>2</th>\n",
              "      <td>2401</td>\n",
              "      <td>Borderlands</td>\n",
              "      <td>Positive</td>\n",
              "      <td>im coming on borderlands and i will murder you...</td>\n",
              "      <td>im come on borderland and i will murder you all</td>\n",
              "      <td>im coming on borderland and i will murder you all</td>\n",
              "    </tr>\n",
              "    <tr>\n",
              "      <th>3</th>\n",
              "      <td>2401</td>\n",
              "      <td>Borderlands</td>\n",
              "      <td>Positive</td>\n",
              "      <td>im getting on borderlands 2 and i will murder ...</td>\n",
              "      <td>im get on borderland and i will murder you me all</td>\n",
              "      <td>im getting on borderland and i will murder you...</td>\n",
              "    </tr>\n",
              "    <tr>\n",
              "      <th>4</th>\n",
              "      <td>2401</td>\n",
              "      <td>Borderlands</td>\n",
              "      <td>Positive</td>\n",
              "      <td>im getting into borderlands and i can murder y...</td>\n",
              "      <td>im get into borderland and i can murder you all</td>\n",
              "      <td>im getting into borderland and i can murder yo...</td>\n",
              "    </tr>\n",
              "    <tr>\n",
              "      <th>...</th>\n",
              "      <td>...</td>\n",
              "      <td>...</td>\n",
              "      <td>...</td>\n",
              "      <td>...</td>\n",
              "      <td>...</td>\n",
              "      <td>...</td>\n",
              "    </tr>\n",
              "    <tr>\n",
              "      <th>74676</th>\n",
              "      <td>9200</td>\n",
              "      <td>Nvidia</td>\n",
              "      <td>Positive</td>\n",
              "      <td>Just realized that the Windows partition of my...</td>\n",
              "      <td>just realiz that the window partit of my mac i...</td>\n",
              "      <td>just realized that the window partition of my ...</td>\n",
              "    </tr>\n",
              "    <tr>\n",
              "      <th>74677</th>\n",
              "      <td>9200</td>\n",
              "      <td>Nvidia</td>\n",
              "      <td>Positive</td>\n",
              "      <td>Just realized that my Mac window partition is ...</td>\n",
              "      <td>just realiz that my mac window partit is year ...</td>\n",
              "      <td>just realized that my mac window partition is ...</td>\n",
              "    </tr>\n",
              "    <tr>\n",
              "      <th>74678</th>\n",
              "      <td>9200</td>\n",
              "      <td>Nvidia</td>\n",
              "      <td>Positive</td>\n",
              "      <td>Just realized the windows partition of my Mac ...</td>\n",
              "      <td>just realiz the window partit of my mac is now...</td>\n",
              "      <td>just realized the window partition of my mac i...</td>\n",
              "    </tr>\n",
              "    <tr>\n",
              "      <th>74679</th>\n",
              "      <td>9200</td>\n",
              "      <td>Nvidia</td>\n",
              "      <td>Positive</td>\n",
              "      <td>Just realized between the windows partition of...</td>\n",
              "      <td>just realiz between the window partit of my ma...</td>\n",
              "      <td>just realized between the window partition of ...</td>\n",
              "    </tr>\n",
              "    <tr>\n",
              "      <th>74680</th>\n",
              "      <td>9200</td>\n",
              "      <td>Nvidia</td>\n",
              "      <td>Positive</td>\n",
              "      <td>Just like the windows partition of my Mac is l...</td>\n",
              "      <td>just like the window partit of my mac is like ...</td>\n",
              "      <td>just like the window partition of my mac is li...</td>\n",
              "    </tr>\n",
              "  </tbody>\n",
              "</table>\n",
              "<p>73995 rows × 6 columns</p>\n",
              "</div>"
            ],
            "text/plain": [
              "         No         Game     Class  \\\n",
              "0      2401  Borderlands  Positive   \n",
              "1      2401  Borderlands  Positive   \n",
              "2      2401  Borderlands  Positive   \n",
              "3      2401  Borderlands  Positive   \n",
              "4      2401  Borderlands  Positive   \n",
              "...     ...          ...       ...   \n",
              "74676  9200       Nvidia  Positive   \n",
              "74677  9200       Nvidia  Positive   \n",
              "74678  9200       Nvidia  Positive   \n",
              "74679  9200       Nvidia  Positive   \n",
              "74680  9200       Nvidia  Positive   \n",
              "\n",
              "                                                    Text  \\\n",
              "0      I am coming to the borders and I will kill you...   \n",
              "1      im getting on borderlands and i will kill you ...   \n",
              "2      im coming on borderlands and i will murder you...   \n",
              "3      im getting on borderlands 2 and i will murder ...   \n",
              "4      im getting into borderlands and i can murder y...   \n",
              "...                                                  ...   \n",
              "74676  Just realized that the Windows partition of my...   \n",
              "74677  Just realized that my Mac window partition is ...   \n",
              "74678  Just realized the windows partition of my Mac ...   \n",
              "74679  Just realized between the windows partition of...   \n",
              "74680  Just like the windows partition of my Mac is l...   \n",
              "\n",
              "                                               text_stem  \\\n",
              "0        i am come to the border and i will kill you all   \n",
              "1           im get on borderland and i will kill you all   \n",
              "2        im come on borderland and i will murder you all   \n",
              "3      im get on borderland and i will murder you me all   \n",
              "4        im get into borderland and i can murder you all   \n",
              "...                                                  ...   \n",
              "74676  just realiz that the window partit of my mac i...   \n",
              "74677  just realiz that my mac window partit is year ...   \n",
              "74678  just realiz the window partit of my mac is now...   \n",
              "74679  just realiz between the window partit of my ma...   \n",
              "74680  just like the window partit of my mac is like ...   \n",
              "\n",
              "                                                text_lem  \n",
              "0      i am coming to the border and i will kill you all  \n",
              "1       im getting on borderland and i will kill you all  \n",
              "2      im coming on borderland and i will murder you all  \n",
              "3      im getting on borderland and i will murder you...  \n",
              "4      im getting into borderland and i can murder yo...  \n",
              "...                                                  ...  \n",
              "74676  just realized that the window partition of my ...  \n",
              "74677  just realized that my mac window partition is ...  \n",
              "74678  just realized the window partition of my mac i...  \n",
              "74679  just realized between the window partition of ...  \n",
              "74680  just like the window partition of my mac is li...  \n",
              "\n",
              "[73995 rows x 6 columns]"
            ]
          },
          "execution_count": 7,
          "metadata": {},
          "output_type": "execute_result"
        }
      ],
      "source": [
        "#Aplicamos la funcion de lematizacion y de stemming\n",
        "nltk.download(\"punkt\")\n",
        "nltk.download(\"stopwords\")\n",
        "nltk.download('wordnet')\n",
        "\n",
        "data[\"text_stem\"] = data[\"Text\"].apply(tokenize_and_stem)\n",
        "data[\"text_lem\"] = data[\"Text\"].apply(tokenize_and_lematize)\n",
        "data"
      ]
    },
    {
      "cell_type": "markdown",
      "metadata": {
        "id": "Zpx-AQZcHQzI"
      },
      "source": [
        "Es lo que llevo hasta ahora"
      ]
    }
  ],
  "metadata": {
    "colab": {
      "provenance": []
    },
    "kernelspec": {
      "display_name": "Python 3",
      "name": "python3"
    },
    "language_info": {
      "codemirror_mode": {
        "name": "ipython",
        "version": 3
      },
      "file_extension": ".py",
      "mimetype": "text/x-python",
      "name": "python",
      "nbconvert_exporter": "python",
      "pygments_lexer": "ipython3",
      "version": "3.11.8"
    }
  },
  "nbformat": 4,
  "nbformat_minor": 0
}
